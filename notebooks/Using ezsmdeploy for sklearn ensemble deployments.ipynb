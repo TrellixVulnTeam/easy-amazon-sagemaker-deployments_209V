{
 "cells": [
  {
   "cell_type": "markdown",
   "metadata": {},
   "source": [
    "## Deploying Voting ensemble Sklearn models on SageMaker"
   ]
  },
  {
   "cell_type": "code",
   "execution_count": 1,
   "metadata": {},
   "outputs": [
    {
     "name": "stdout",
     "output_type": "stream",
     "text": [
      "/bin/sh: src: command not found\r\n"
     ]
    }
   ],
   "source": [
    "!rm modelscript_ensemble_sklearn.py\n",
    "!rm *.joblib\n",
    "!src"
   ]
  },
  {
   "cell_type": "code",
   "execution_count": 2,
   "metadata": {},
   "outputs": [
    {
     "name": "stdout",
     "output_type": "stream",
     "text": [
      "0.7669343814080657\n"
     ]
    }
   ],
   "source": [
    "# Voting Ensemble for Classification\n",
    "import pandas\n",
    "from sklearn import model_selection\n",
    "from sklearn.linear_model import LogisticRegression\n",
    "from sklearn.tree import DecisionTreeClassifier\n",
    "from sklearn.svm import SVC\n",
    "from sklearn.ensemble import VotingClassifier\n",
    "\n",
    "# Get Data\n",
    "url = \"https://raw.githubusercontent.com/jbrownlee/Datasets/master/pima-indians-diabetes.data.csv\"\n",
    "names = ['preg', 'plas', 'pres', 'skin', 'test', 'mass', 'pedi', 'age', 'class']\n",
    "dataframe = pandas.read_csv(url, names=names)\n",
    "array = dataframe.values\n",
    "X = array[:,0:8]\n",
    "Y = array[:,8]\n",
    "\n",
    "# Fit\n",
    "kfold = model_selection.KFold(n_splits=10)\n",
    "# create the sub models\n",
    "estimators = []\n",
    "model1 = LogisticRegression(solver='newton-cg')\n",
    "estimators.append(('logistic', model1))\n",
    "model2 = DecisionTreeClassifier()\n",
    "estimators.append(('cart', model2))\n",
    "model3 = SVC()\n",
    "estimators.append(('svm', model3))\n",
    "# create the ensemble model\n",
    "ensemble = VotingClassifier(estimators)\n",
    "\n",
    "ensemble.fit(X,Y)\n",
    "results = model_selection.cross_val_score(ensemble, X, Y, cv=kfold)\n",
    "print(results.mean())"
   ]
  },
  {
   "cell_type": "markdown",
   "metadata": {},
   "source": [
    "### Save model files"
   ]
  },
  {
   "cell_type": "code",
   "execution_count": 3,
   "metadata": {},
   "outputs": [
    {
     "name": "stdout",
     "output_type": "stream",
     "text": [
      "\u001b[33mWARNING: You are using pip version 20.3.3; however, version 21.0.1 is available.\r\n",
      "You should consider upgrading via the '/home/ec2-user/anaconda3/envs/python3/bin/python -m pip install --upgrade pip' command.\u001b[0m\r\n"
     ]
    }
   ],
   "source": [
    "!pip install joblib -q\n",
    "from joblib import dump"
   ]
  },
  {
   "cell_type": "code",
   "execution_count": 4,
   "metadata": {},
   "outputs": [
    {
     "name": "stdout",
     "output_type": "stream",
     "text": [
      "logistic\n",
      "cart\n",
      "svm\n"
     ]
    },
    {
     "data": {
      "text/plain": [
       "['ensemble.joblib']"
      ]
     },
     "execution_count": 4,
     "metadata": {},
     "output_type": "execute_result"
    }
   ],
   "source": [
    "for estimator in ensemble.estimators:\n",
    "    print(estimator[0])\n",
    "    dump(estimator[1],estimator[0]+'.joblib')\n",
    "\n",
    "dump(ensemble,'ensemble.joblib')"
   ]
  },
  {
   "cell_type": "code",
   "execution_count": 5,
   "metadata": {},
   "outputs": [
    {
     "name": "stdout",
     "output_type": "stream",
     "text": [
      "cart.joblib  ensemble.joblib  logistic.joblib  svm.joblib\r\n"
     ]
    }
   ],
   "source": [
    "!ls *.joblib"
   ]
  },
  {
   "cell_type": "code",
   "execution_count": 6,
   "metadata": {},
   "outputs": [
    {
     "data": {
      "text/plain": [
       "array([1.])"
      ]
     },
     "execution_count": 6,
     "metadata": {},
     "output_type": "execute_result"
    }
   ],
   "source": [
    "ensemble.predict(X[0].reshape(1,8))"
   ]
  },
  {
   "cell_type": "markdown",
   "metadata": {},
   "source": [
    "## Step 1 : Write a model transform script\n",
    "\n",
    "#### Make sure you have a ...\n",
    "\n",
    "- \"load_model\" function\n",
    "    - input args are model path\n",
    "    - returns loaded model object\n",
    "    - model name is the same as what you saved the model file as (see above step)\n",
    "<br><br>\n",
    "- \"predict\" function\n",
    "    - input args are the loaded model object and a payload\n",
    "    - returns the result of model.predict\n",
    "    - make sure you format it as a single (or multiple) string return inside a list for real time (for mini batch)\n",
    "    - from a client, a list  or string or np.array that is sent for prediction is interpreted as bytes. Do what you have to for converting back to list or string or np.array\n",
    "    - return the error for debugging\n"
   ]
  },
  {
   "cell_type": "code",
   "execution_count": 7,
   "metadata": {},
   "outputs": [
    {
     "name": "stdout",
     "output_type": "stream",
     "text": [
      "Writing modelscript_ensemble_sklearn.py\n"
     ]
    }
   ],
   "source": [
    "%%writefile modelscript_ensemble_sklearn.py\n",
    "import sklearn\n",
    "from joblib import load\n",
    "import numpy as np\n",
    "import os\n",
    "\n",
    "#Return loaded model\n",
    "def load_model(modelpath):\n",
    "    print(modelpath)\n",
    "    \n",
    "    # Either load individually\n",
    "    print(\"loading individuals\")\n",
    "    logistic = load(os.path.join(modelpath,'logistic.joblib'))\n",
    "    cart = load(os.path.join(modelpath,'cart.joblib'))\n",
    "    svm = load(os.path.join(modelpath,'svm.joblib'))\n",
    "    \n",
    "    # Or load the entire ensemble\n",
    "    print(\"loading ensemble\")\n",
    "    ensemble = load(os.path.join(modelpath,'ensemble.joblib'))\n",
    "    print(\"loaded\")\n",
    "    return ensemble\n",
    "\n",
    "# return prediction based on loaded model (from the step above) and an input payload\n",
    "def predict(model, payload):\n",
    "    try:\n",
    "        # locally, payload may come in as an np.ndarray\n",
    "        if type(payload)==np.ndarray:\n",
    "            out = [str(model.predict(payload.reshape((1,8))))]\n",
    "        # in remote / container based deployment, payload comes in as a stream of bytes\n",
    "        else:\n",
    "\n",
    "            out = [str(model.predict(np.frombuffer(payload).reshape((1,8))))]\n",
    "    except Exception as e:\n",
    "        out = [type(payload),str(e)] #useful for debugging!\n",
    "    \n",
    "    return out"
   ]
  },
  {
   "cell_type": "markdown",
   "metadata": {},
   "source": [
    "## Does this work locally? (not \"_in a container locally_\", but _actually_ in local)"
   ]
  },
  {
   "cell_type": "code",
   "execution_count": 8,
   "metadata": {},
   "outputs": [
    {
     "name": "stdout",
     "output_type": "stream",
     "text": [
      ".\n",
      "loading individuals\n",
      "loading ensemble\n",
      "loaded\n"
     ]
    }
   ],
   "source": [
    "from modelscript_ensemble_sklearn import *\n",
    "model = load_model('.')"
   ]
  },
  {
   "cell_type": "code",
   "execution_count": 9,
   "metadata": {},
   "outputs": [
    {
     "data": {
      "text/plain": [
       "['[1.]']"
      ]
     },
     "execution_count": 9,
     "metadata": {},
     "output_type": "execute_result"
    }
   ],
   "source": [
    "predict(model,X[0])"
   ]
  },
  {
   "cell_type": "markdown",
   "metadata": {},
   "source": [
    "### ok great! Now let's install ezsmdeploy\n",
    "In some cases, installs fail due to an existing package installed called greenlet.\n",
    "This is not a direct dependency of ezsmdeploy but interferes with the installation. \n",
    "To fix this, either install in a virtualenv as seen above, or do:\n",
    "pip install ezsmdeploy[locust] --ignore-installed greenlet"
   ]
  },
  {
   "cell_type": "code",
   "execution_count": 10,
   "metadata": {},
   "outputs": [
    {
     "name": "stdout",
     "output_type": "stream",
     "text": [
      "Found existing installation: ezsmdeploy 1.0.3\n",
      "Uninstalling ezsmdeploy-1.0.3:\n",
      "  Successfully uninstalled ezsmdeploy-1.0.3\n",
      "Collecting ezsmdeploy==1.0.3\n",
      "  Using cached ezsmdeploy-1.0.3-py3-none-any.whl (23 kB)\n",
      "Requirement already satisfied: sagemaker==2.16.1 in /home/ec2-user/anaconda3/envs/python3/lib/python3.6/site-packages (from ezsmdeploy==1.0.3) (2.16.1)\n",
      "Requirement already satisfied: yaspin==0.16.0 in /home/ec2-user/anaconda3/envs/python3/lib/python3.6/site-packages (from ezsmdeploy==1.0.3) (0.16.0)\n",
      "Requirement already satisfied: boto3>=1.14.12 in /home/ec2-user/anaconda3/envs/python3/lib/python3.6/site-packages (from ezsmdeploy==1.0.3) (1.16.63)\n",
      "Requirement already satisfied: shortuuid==1.0.1 in /home/ec2-user/anaconda3/envs/python3/lib/python3.6/site-packages (from ezsmdeploy==1.0.3) (1.0.1)\n",
      "Requirement already satisfied: sagemaker-studio-image-build==0.5.0 in /home/ec2-user/anaconda3/envs/python3/lib/python3.6/site-packages (from ezsmdeploy==1.0.3) (0.5.0)\n",
      "Requirement already satisfied: numpy>=1.9.0 in /home/ec2-user/anaconda3/envs/python3/lib/python3.6/site-packages (from sagemaker==2.16.1->ezsmdeploy==1.0.3) (1.19.5)\n",
      "Requirement already satisfied: importlib-metadata>=1.4.0 in /home/ec2-user/anaconda3/envs/python3/lib/python3.6/site-packages (from sagemaker==2.16.1->ezsmdeploy==1.0.3) (3.4.0)\n",
      "Requirement already satisfied: google-pasta in /home/ec2-user/anaconda3/envs/python3/lib/python3.6/site-packages (from sagemaker==2.16.1->ezsmdeploy==1.0.3) (0.2.0)\n",
      "Requirement already satisfied: smdebug-rulesconfig==0.1.5 in /home/ec2-user/anaconda3/envs/python3/lib/python3.6/site-packages (from sagemaker==2.16.1->ezsmdeploy==1.0.3) (0.1.5)\n",
      "Requirement already satisfied: packaging>=20.0 in /home/ec2-user/anaconda3/envs/python3/lib/python3.6/site-packages (from sagemaker==2.16.1->ezsmdeploy==1.0.3) (20.8)\n",
      "Requirement already satisfied: protobuf>=3.1 in /home/ec2-user/anaconda3/envs/python3/lib/python3.6/site-packages (from sagemaker==2.16.1->ezsmdeploy==1.0.3) (3.14.0)\n",
      "Requirement already satisfied: protobuf3-to-dict>=0.1.5 in /home/ec2-user/anaconda3/envs/python3/lib/python3.6/site-packages (from sagemaker==2.16.1->ezsmdeploy==1.0.3) (0.1.5)\n",
      "Requirement already satisfied: s3transfer<0.4.0,>=0.3.0 in /home/ec2-user/anaconda3/envs/python3/lib/python3.6/site-packages (from boto3>=1.14.12->ezsmdeploy==1.0.3) (0.3.4)\n",
      "Requirement already satisfied: botocore<1.20.0,>=1.19.63 in /home/ec2-user/anaconda3/envs/python3/lib/python3.6/site-packages (from boto3>=1.14.12->ezsmdeploy==1.0.3) (1.19.63)\n",
      "Requirement already satisfied: jmespath<1.0.0,>=0.7.1 in /home/ec2-user/anaconda3/envs/python3/lib/python3.6/site-packages (from boto3>=1.14.12->ezsmdeploy==1.0.3) (0.10.0)\n",
      "Requirement already satisfied: python-dateutil<3.0.0,>=2.1 in /home/ec2-user/anaconda3/envs/python3/lib/python3.6/site-packages (from botocore<1.20.0,>=1.19.63->boto3>=1.14.12->ezsmdeploy==1.0.3) (2.8.1)\n",
      "Requirement already satisfied: urllib3<1.27,>=1.25.4 in /home/ec2-user/anaconda3/envs/python3/lib/python3.6/site-packages (from botocore<1.20.0,>=1.19.63->boto3>=1.14.12->ezsmdeploy==1.0.3) (1.26.2)\n",
      "Requirement already satisfied: zipp>=0.5 in /home/ec2-user/anaconda3/envs/python3/lib/python3.6/site-packages (from importlib-metadata>=1.4.0->sagemaker==2.16.1->ezsmdeploy==1.0.3) (3.4.0)\n",
      "Requirement already satisfied: typing-extensions>=3.6.4 in /home/ec2-user/anaconda3/envs/python3/lib/python3.6/site-packages (from importlib-metadata>=1.4.0->sagemaker==2.16.1->ezsmdeploy==1.0.3) (3.7.4.3)\n",
      "Requirement already satisfied: pyparsing>=2.0.2 in /home/ec2-user/anaconda3/envs/python3/lib/python3.6/site-packages (from packaging>=20.0->sagemaker==2.16.1->ezsmdeploy==1.0.3) (2.4.7)\n",
      "Requirement already satisfied: six>=1.9 in /home/ec2-user/anaconda3/envs/python3/lib/python3.6/site-packages (from protobuf>=3.1->sagemaker==2.16.1->ezsmdeploy==1.0.3) (1.15.0)\n",
      "Installing collected packages: ezsmdeploy\n",
      "Successfully installed ezsmdeploy-1.0.3\n",
      "\u001b[33mWARNING: You are using pip version 20.3.3; however, version 21.0.1 is available.\n",
      "You should consider upgrading via the '/home/ec2-user/anaconda3/envs/python3/bin/python -m pip install --upgrade pip' command.\u001b[0m\n"
     ]
    }
   ],
   "source": [
    "!pip uninstall -y ezsmdeploy\n",
    "!pip install ezsmdeploy==1.0.3"
   ]
  },
  {
   "cell_type": "code",
   "execution_count": 11,
   "metadata": {},
   "outputs": [],
   "source": [
    "import ezsmdeploy"
   ]
  },
  {
   "cell_type": "markdown",
   "metadata": {},
   "source": [
    "#### If you have been running other inference containers in local mode, stop existing containers to avoid conflict"
   ]
  },
  {
   "cell_type": "code",
   "execution_count": 12,
   "metadata": {},
   "outputs": [],
   "source": [
    "!docker container stop $(docker container ls -aq) >/dev/null"
   ]
  },
  {
   "cell_type": "markdown",
   "metadata": {},
   "source": [
    "## Deploy locally"
   ]
  },
  {
   "cell_type": "markdown",
   "metadata": {},
   "source": [
    "#### tar all models"
   ]
  },
  {
   "cell_type": "code",
   "execution_count": 13,
   "metadata": {},
   "outputs": [],
   "source": [
    "!rm model.tar.gz\n",
    "!find ./ -name \"*.joblib\" | tar -czf model.tar.gz -T -"
   ]
  },
  {
   "cell_type": "code",
   "execution_count": 14,
   "metadata": {},
   "outputs": [
    {
     "name": "stdout",
     "output_type": "stream",
     "text": [
      "\u001b[K0:00:00.122748 | compressed model(s)\n",
      "\u001b[K0:00:00.192377 | uploaded model tarball(s) ; check returned modelpath\n",
      "\u001b[K0:00:00.193133 | added requirements file\n",
      "\u001b[K0:00:00.194746 | added source file\n",
      "\u001b[K0:00:00.195986 | added Dockerfile\n",
      "\u001b[K0:00:00.197790 | added model_handler and docker utils\n",
      "\u001b[K0:00:00.197868 | building docker container\n",
      "\u001b[K0:00:40.282419 | built docker container\n",
      "\u001b[K2m●∙∙\u001b[0m \u001b[K"
     ]
    },
    {
     "name": "stderr",
     "output_type": "stream",
     "text": [
      "update_endpoint is a no-op in sagemaker>=2.\n",
      "See: https://sagemaker.readthedocs.io/en/stable/v2.html for details.\n"
     ]
    },
    {
     "name": "stdout",
     "output_type": "stream",
     "text": [
      "\u001b[K0:00:40.438909 | created model(s). Now deploying on local\n",
      "\u001b[32m∙●∙\u001b[0m \u001b[KAttaching to tmpu4upynvz_algo-1-ru1bx_1\n",
      "\u001b[36malgo-1-ru1bx_1  |\u001b[0m Starting the inference server with 32 workers.\n",
      "\u001b[32m∙∙●\u001b[0m \u001b[K\u001b[36malgo-1-ru1bx_1  |\u001b[0m [2021-02-10 19:35:46 +0000] [9] [INFO] Starting gunicorn 20.0.4\n",
      "\u001b[36malgo-1-ru1bx_1  |\u001b[0m [2021-02-10 19:35:46 +0000] [9] [INFO] Listening at: unix:/tmp/gunicorn.sock (9)\n",
      "\u001b[36malgo-1-ru1bx_1  |\u001b[0m [2021-02-10 19:35:46 +0000] [9] [INFO] Using worker: gevent\n",
      "\u001b[36malgo-1-ru1bx_1  |\u001b[0m [2021-02-10 19:35:46 +0000] [13] [INFO] Booting worker with pid: 13\n",
      "\u001b[32m∙∙∙\u001b[0m \u001b[K\u001b[36malgo-1-ru1bx_1  |\u001b[0m [2021-02-10 19:35:46 +0000] [14] [INFO] Booting worker with pid: 14\n",
      "\u001b[36malgo-1-ru1bx_1  |\u001b[0m [2021-02-10 19:35:46 +0000] [15] [INFO] Booting worker with pid: 15\n",
      "\u001b[36malgo-1-ru1bx_1  |\u001b[0m [2021-02-10 19:35:46 +0000] [16] [INFO] Booting worker with pid: 16\n",
      "\u001b[36malgo-1-ru1bx_1  |\u001b[0m [2021-02-10 19:35:46 +0000] [17] [INFO] Booting worker with pid: 17\n",
      "\u001b[32m∙∙∙\u001b[0m \u001b[K\u001b[36malgo-1-ru1bx_1  |\u001b[0m [2021-02-10 19:35:46 +0000] [19] [INFO] Booting worker with pid: 19\n",
      "\u001b[36malgo-1-ru1bx_1  |\u001b[0m [2021-02-10 19:35:46 +0000] [84] [INFO] Booting worker with pid: 84\n",
      "\u001b[32m●∙∙\u001b[0m \u001b[K\u001b[36malgo-1-ru1bx_1  |\u001b[0m [2021-02-10 19:35:46 +0000] [117] [INFO] Booting worker with pid: 117\n",
      "\u001b[36malgo-1-ru1bx_1  |\u001b[0m [2021-02-10 19:35:46 +0000] [118] [INFO] Booting worker with pid: 118\n",
      "\u001b[36malgo-1-ru1bx_1  |\u001b[0m [2021-02-10 19:35:46 +0000] [182] [INFO] Booting worker with pid: 182\n",
      "\u001b[32m∙●∙\u001b[0m \u001b[K\u001b[36malgo-1-ru1bx_1  |\u001b[0m [2021-02-10 19:35:46 +0000] [183] [INFO] Booting worker with pid: 183\n",
      "\u001b[36malgo-1-ru1bx_1  |\u001b[0m [2021-02-10 19:35:46 +0000] [184] [INFO] Booting worker with pid: 184\n",
      "\u001b[36malgo-1-ru1bx_1  |\u001b[0m [2021-02-10 19:35:46 +0000] [186] [INFO] Booting worker with pid: 186\n",
      "\u001b[32m∙∙●\u001b[0m \u001b[K\u001b[36malgo-1-ru1bx_1  |\u001b[0m [2021-02-10 19:35:46 +0000] [249] [INFO] Booting worker with pid: 249\n",
      "\u001b[32m∙∙∙\u001b[0m \u001b[K\u001b[36malgo-1-ru1bx_1  |\u001b[0m [2021-02-10 19:35:46 +0000] [252] [INFO] Booting worker with pid: 252\n",
      "\u001b[36malgo-1-ru1bx_1  |\u001b[0m [2021-02-10 19:35:46 +0000] [380] [INFO] Booting worker with pid: 380\n",
      "\u001b[36malgo-1-ru1bx_1  |\u001b[0m [2021-02-10 19:35:46 +0000] [381] [INFO] Booting worker with pid: 381\n",
      "\u001b[32m∙∙∙\u001b[0m \u001b[K\u001b[36malgo-1-ru1bx_1  |\u001b[0m [2021-02-10 19:35:46 +0000] [475] [INFO] Booting worker with pid: 475\n",
      "\u001b[36malgo-1-ru1bx_1  |\u001b[0m [2021-02-10 19:35:46 +0000] [508] [INFO] Booting worker with pid: 508\n",
      "\u001b[32m●∙∙\u001b[0m \u001b[K\u001b[36malgo-1-ru1bx_1  |\u001b[0m [2021-02-10 19:35:47 +0000] [509] [INFO] Booting worker with pid: 509\n",
      "\u001b[32m∙●∙\u001b[0m \u001b[K\u001b[36malgo-1-ru1bx_1  |\u001b[0m [2021-02-10 19:35:47 +0000] [573] [INFO] Booting worker with pid: 573\n",
      "\u001b[36malgo-1-ru1bx_1  |\u001b[0m [2021-02-10 19:35:47 +0000] [574] [INFO] Booting worker with pid: 574\n",
      "\u001b[36malgo-1-ru1bx_1  |\u001b[0m [2021-02-10 19:35:47 +0000] [575] [INFO] Booting worker with pid: 575\n",
      "\u001b[32m∙∙●\u001b[0m \u001b[K\u001b[36malgo-1-ru1bx_1  |\u001b[0m [2021-02-10 19:35:47 +0000] [639] [INFO] Booting worker with pid: 639\n",
      "\u001b[36malgo-1-ru1bx_1  |\u001b[0m [2021-02-10 19:35:47 +0000] [640] [INFO] Booting worker with pid: 640\n",
      "\u001b[36malgo-1-ru1bx_1  |\u001b[0m [2021-02-10 19:35:47 +0000] [641] [INFO] Booting worker with pid: 641\n",
      "\u001b[32m∙∙∙\u001b[0m \u001b[K\u001b[36malgo-1-ru1bx_1  |\u001b[0m [2021-02-10 19:35:47 +0000] [704] [INFO] Booting worker with pid: 704\n",
      "\u001b[36malgo-1-ru1bx_1  |\u001b[0m [2021-02-10 19:35:47 +0000] [706] [INFO] Booting worker with pid: 706\n",
      "\u001b[36malgo-1-ru1bx_1  |\u001b[0m [2021-02-10 19:35:47 +0000] [800] [INFO] Booting worker with pid: 800\n",
      "\u001b[32m∙∙∙\u001b[0m \u001b[K\u001b[36malgo-1-ru1bx_1  |\u001b[0m [2021-02-10 19:35:47 +0000] [801] [INFO] Booting worker with pid: 801\n",
      "\u001b[36malgo-1-ru1bx_1  |\u001b[0m [2021-02-10 19:35:47 +0000] [802] [INFO] Booting worker with pid: 802\n",
      "\u001b[36malgo-1-ru1bx_1  |\u001b[0m [2021-02-10 19:35:47 +0000] [807] [INFO] Booting worker with pid: 807\n",
      "\u001b[32m∙●∙\u001b[0m \u001b[K\u001b[36malgo-1-ru1bx_1  |\u001b[0m /opt/ml/model\n",
      "\u001b[36malgo-1-ru1bx_1  |\u001b[0m loading individuals\n",
      "\u001b[32m∙∙●\u001b[0m \u001b[K\u001b[36malgo-1-ru1bx_1  |\u001b[0m loading ensemble\n",
      "!\u001b[36malgo-1-ru1bx_1  |\u001b[0m loaded\n",
      "\u001b[36malgo-1-ru1bx_1  |\u001b[0m 172.18.0.1 - - [10/Feb/2021:19:35:49 +0000] \"GET /ping HTTP/1.1\" 200 1 \"-\" \"python-urllib3/1.26.2\"\n",
      "\u001b[K0:00:45.791661 | deployed model\n",
      "\u001b[K\u001b[32m0:00:45.792690 | Done! ✔\u001b[0m \n"
     ]
    }
   ],
   "source": [
    "ez = ezsmdeploy.Deploy(model = 'model.tar.gz', # if you intend to add models later, pass model as list, otherwise str\n",
    "                  script = 'modelscript_ensemble_sklearn.py',\n",
    "                  requirements = ['scikit-learn=='+sklearn.__version__,'numpy','joblib'], #or pass in the path to requirements.txt\n",
    "                  instance_type = 'local',\n",
    "                  wait = True)"
   ]
  },
  {
   "cell_type": "markdown",
   "metadata": {},
   "source": [
    "## Test containerized version locally"
   ]
  },
  {
   "cell_type": "code",
   "execution_count": 15,
   "metadata": {},
   "outputs": [
    {
     "name": "stdout",
     "output_type": "stream",
     "text": [
      "\u001b[36malgo-1-ru1bx_1  |\u001b[0m received input data\r\n",
      "\u001b[36malgo-1-ru1bx_1  |\u001b[0m b'\\x00\\x00\\x00\\x00\\x00\\x00\\x18@\\x00\\x00\\x00\\x00\\x00\\x80b@\\x00\\x00\\x00\\x00\\x00\\x00R@\\x00\\x00\\x00\\x00\\x00\\x80A@\\x00\\x00\\x00\\x00\\x00\\x00\\x00\\x00\\xcd\\xcc\\xcc\\xcc\\xcc\\xcc@@\\xaa\\xf1\\xd2Mb\\x10\\xe4?\\x00\\x00\\x00\\x00\\x00\\x00I@'\r\n",
      "\u001b[36malgo-1-ru1bx_1  |\u001b[0m /opt/ml/model\r\n",
      "\u001b[36malgo-1-ru1bx_1  |\u001b[0m loading individuals\r\n",
      "\u001b[36malgo-1-ru1bx_1  |\u001b[0m loading ensemble\r\n",
      "\u001b[36malgo-1-ru1bx_1  |\u001b[0m loaded\r\n",
      "\u001b[36malgo-1-ru1bx_1  |\u001b[0m predictions from model\r\n",
      "\u001b[36malgo-1-ru1bx_1  |\u001b[0m ['[1.]']\r\n"
     ]
    },
    {
     "data": {
      "text/plain": [
       "'[1.]'"
      ]
     },
     "execution_count": 15,
     "metadata": {},
     "output_type": "execute_result"
    },
    {
     "name": "stdout",
     "output_type": "stream",
     "text": [
      "\u001b[36malgo-1-ru1bx_1  |\u001b[0m 172.18.0.1 - - [10/Feb/2021:19:35:53 +0000] \"POST /invocations HTTP/1.1\" 200 4 \"-\" \"python-urllib3/1.26.2\"\r\n"
     ]
    }
   ],
   "source": [
    "out = ez.predictor.predict(X[0].reshape((1,8)).tobytes()).decode()\n",
    "out"
   ]
  },
  {
   "cell_type": "code",
   "execution_count": 16,
   "metadata": {},
   "outputs": [
    {
     "name": "stdout",
     "output_type": "stream",
     "text": [
      "\u001b[36malgo-1-ru1bx_1  |\u001b[0m [2021-02-10 19:36:06 +0000] [9] [INFO] Handling signal: term\n",
      "\u001b[36mtmpu4upynvz_algo-1-ru1bx_1 exited with code 0\n",
      "\u001b[0mAborting on container exit...\n"
     ]
    }
   ],
   "source": [
    "!docker container stop $(docker container ls -aq) >/dev/null"
   ]
  },
  {
   "cell_type": "markdown",
   "metadata": {},
   "source": [
    "## Deploy on SageMaker"
   ]
  },
  {
   "cell_type": "code",
   "execution_count": 17,
   "metadata": {},
   "outputs": [
    {
     "name": "stdout",
     "output_type": "stream",
     "text": [
      "\u001b[K0:00:00.122377 | compressed model(s)\n",
      "\u001b[K0:00:00.376112 | uploaded model tarball(s) ; check returned modelpath\n",
      "\u001b[K0:00:00.377001 | added requirements file\n",
      "\u001b[K0:00:00.378543 | added source file\n",
      "\u001b[K0:00:00.380053 | added Dockerfile\n",
      "\u001b[K0:00:00.381657 | added model_handler and docker utils\n",
      "\u001b[K0:00:00.381762 | building docker container\n",
      "\u001b[K0:00:40.467313 | built docker container\n",
      "\u001b[K2m∙●∙\u001b[0m \u001b[K"
     ]
    },
    {
     "name": "stderr",
     "output_type": "stream",
     "text": [
      "update_endpoint is a no-op in sagemaker>=2.\n",
      "See: https://sagemaker.readthedocs.io/en/stable/v2.html for details.\n"
     ]
    },
    {
     "name": "stdout",
     "output_type": "stream",
     "text": [
      "\u001b[K0:00:40.655411 | created model(s). Now deploying on ml.m5.xlarge\n",
      "\u001b[K0:07:12.764312 | deployed model\n",
      "\u001b[K0:07:12.765088 | estimated cost is $0.3 per hour\n",
      "\u001b[K\u001b[32m0:07:12.765247 | Done! ✔\u001b[0m \n"
     ]
    }
   ],
   "source": [
    "ezonsm = ezsmdeploy.Deploy(model = 'model.tar.gz', \n",
    "                  script = 'modelscript_ensemble_sklearn.py',\n",
    "                  requirements = ['scikit-learn=='+sklearn.__version__,'numpy','joblib'], #or pass in the path to requirements.txt\n",
    "                  wait = True)"
   ]
  },
  {
   "cell_type": "code",
   "execution_count": null,
   "metadata": {},
   "outputs": [],
   "source": [
    "# !./src/build-docker.sh test"
   ]
  },
  {
   "cell_type": "code",
   "execution_count": 20,
   "metadata": {},
   "outputs": [
    {
     "data": {
      "text/plain": [
       "'[1.]'"
      ]
     },
     "execution_count": 20,
     "metadata": {},
     "output_type": "execute_result"
    }
   ],
   "source": [
    "out = ezonsm.predictor.predict(X[0].reshape((1,8)).tobytes()).decode()\n",
    "out"
   ]
  },
  {
   "cell_type": "code",
   "execution_count": 21,
   "metadata": {},
   "outputs": [],
   "source": [
    "ezonsm.predictor.delete_endpoint()"
   ]
  },
  {
   "cell_type": "code",
   "execution_count": null,
   "metadata": {},
   "outputs": [],
   "source": []
  }
 ],
 "metadata": {
  "kernelspec": {
   "display_name": "conda_python3",
   "language": "python",
   "name": "conda_python3"
  },
  "language_info": {
   "codemirror_mode": {
    "name": "ipython",
    "version": 3
   },
   "file_extension": ".py",
   "mimetype": "text/x-python",
   "name": "python",
   "nbconvert_exporter": "python",
   "pygments_lexer": "ipython3",
   "version": "3.6.10"
  }
 },
 "nbformat": 4,
 "nbformat_minor": 4
}
